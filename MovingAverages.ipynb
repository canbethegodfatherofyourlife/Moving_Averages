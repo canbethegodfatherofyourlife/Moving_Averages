{
  "nbformat": 4,
  "nbformat_minor": 0,
  "metadata": {
    "colab": {
      "name": "MovingAverages.ipynb",
      "provenance": [],
      "authorship_tag": "ABX9TyPrY3j/jmetnXS1qVwaoZcZ",
      "include_colab_link": true
    },
    "kernelspec": {
      "name": "python3",
      "display_name": "Python 3"
    },
    "language_info": {
      "name": "python"
    }
  },
  "cells": [
    {
      "cell_type": "markdown",
      "metadata": {
        "id": "view-in-github",
        "colab_type": "text"
      },
      "source": [
        "<a href=\"https://colab.research.google.com/github/canbethegodfatherofyourlife/Moving_Averages/blob/main/MovingAverages.ipynb\" target=\"_parent\"><img src=\"https://colab.research.google.com/assets/colab-badge.svg\" alt=\"Open In Colab\"/></a>"
      ]
    },
    {
      "cell_type": "markdown",
      "metadata": {
        "id": "mzgLvHUVM00l"
      },
      "source": [
        "**MOVING AVERAGE**"
      ]
    },
    {
      "cell_type": "markdown",
      "metadata": {
        "id": "xE59gTeWM9Jh"
      },
      "source": [
        "*A moving average (MA) is a stock indicator that is commonly used in technical anlysis.\n",
        "\n",
        "A simple moving average is a calculation that takes the arithmetic mean of a given set of prices over a specific number of days in the past.\n"
      ]
    },
    {
      "cell_type": "markdown",
      "metadata": {
        "id": "8SY3BOu2N3aP"
      },
      "source": [
        "*MA is a lagging type of indicator and should only be used in a trending market.\n",
        "\n",
        "When a Faster MA ( lesser day ) crosses a Slow MA - it gives a buy signal.\n",
        "\n",
        "When a Slower MA ( greater day ) crosses a Faster MA - it gives a sell signal."
      ]
    },
    {
      "cell_type": "markdown",
      "metadata": {
        "id": "Lf3e_PH6awJ2"
      },
      "source": [
        "*For Long Term Investors - Check 200/100/50 MA - in Monthly/Weekly TimeFrame\n",
        "\n",
        "For Swing Traders       - Check 50/21/14 MA   - in 15-30 Minutes TimeFrame\n",
        "\n",
        "For Day Traders         - Check 14/7/3 MA - in 5-10 Minutes TimeFrame"
      ]
    },
    {
      "cell_type": "markdown",
      "metadata": {
        "id": "QtBMUxgIbnog"
      },
      "source": [
        "**CODE**"
      ]
    },
    {
      "cell_type": "code",
      "metadata": {
        "id": "L9hDaVvwcgQ6"
      },
      "source": [
        "import talib as ta\n",
        "import yfinance as yf"
      ],
      "execution_count": 7,
      "outputs": []
    },
    {
      "cell_type": "code",
      "metadata": {
        "colab": {
          "base_uri": "https://localhost:8080/",
          "height": 251
        },
        "id": "W3gazYhLMdiE",
        "outputId": "23831ad2-144b-4cc6-e0ba-7f950d131cc0"
      },
      "source": [
        "# input\n",
        "symbol = 'TSLA'\n",
        "start = '2020-11-01'\n",
        "end   = '2021-11-01'\n",
        "\n",
        "# Read data \n",
        "df = yf.download(symbol,start,end)\n",
        "\n",
        "# View Columns\n",
        "df.head()"
      ],
      "execution_count": 8,
      "outputs": [
        {
          "output_type": "stream",
          "name": "stdout",
          "text": [
            "\r[*********************100%***********************]  1 of 1 completed\n"
          ]
        },
        {
          "output_type": "execute_result",
          "data": {
            "text/html": [
              "<div>\n",
              "<style scoped>\n",
              "    .dataframe tbody tr th:only-of-type {\n",
              "        vertical-align: middle;\n",
              "    }\n",
              "\n",
              "    .dataframe tbody tr th {\n",
              "        vertical-align: top;\n",
              "    }\n",
              "\n",
              "    .dataframe thead th {\n",
              "        text-align: right;\n",
              "    }\n",
              "</style>\n",
              "<table border=\"1\" class=\"dataframe\">\n",
              "  <thead>\n",
              "    <tr style=\"text-align: right;\">\n",
              "      <th></th>\n",
              "      <th>Open</th>\n",
              "      <th>High</th>\n",
              "      <th>Low</th>\n",
              "      <th>Close</th>\n",
              "      <th>Adj Close</th>\n",
              "      <th>Volume</th>\n",
              "    </tr>\n",
              "    <tr>\n",
              "      <th>Date</th>\n",
              "      <th></th>\n",
              "      <th></th>\n",
              "      <th></th>\n",
              "      <th></th>\n",
              "      <th></th>\n",
              "      <th></th>\n",
              "    </tr>\n",
              "  </thead>\n",
              "  <tbody>\n",
              "    <tr>\n",
              "      <th>2020-11-02</th>\n",
              "      <td>394.000000</td>\n",
              "      <td>406.980011</td>\n",
              "      <td>392.299988</td>\n",
              "      <td>400.510010</td>\n",
              "      <td>400.510010</td>\n",
              "      <td>29021100</td>\n",
              "    </tr>\n",
              "    <tr>\n",
              "      <th>2020-11-03</th>\n",
              "      <td>409.730011</td>\n",
              "      <td>427.769989</td>\n",
              "      <td>406.690002</td>\n",
              "      <td>423.899994</td>\n",
              "      <td>423.899994</td>\n",
              "      <td>34351700</td>\n",
              "    </tr>\n",
              "    <tr>\n",
              "      <th>2020-11-04</th>\n",
              "      <td>430.619995</td>\n",
              "      <td>435.399994</td>\n",
              "      <td>417.100006</td>\n",
              "      <td>420.980011</td>\n",
              "      <td>420.980011</td>\n",
              "      <td>32143100</td>\n",
              "    </tr>\n",
              "    <tr>\n",
              "      <th>2020-11-05</th>\n",
              "      <td>428.299988</td>\n",
              "      <td>440.000000</td>\n",
              "      <td>424.000000</td>\n",
              "      <td>438.089996</td>\n",
              "      <td>438.089996</td>\n",
              "      <td>28414500</td>\n",
              "    </tr>\n",
              "    <tr>\n",
              "      <th>2020-11-06</th>\n",
              "      <td>436.100006</td>\n",
              "      <td>436.570007</td>\n",
              "      <td>424.279999</td>\n",
              "      <td>429.950012</td>\n",
              "      <td>429.950012</td>\n",
              "      <td>21706000</td>\n",
              "    </tr>\n",
              "  </tbody>\n",
              "</table>\n",
              "</div>"
            ],
            "text/plain": [
              "                  Open        High  ...   Adj Close    Volume\n",
              "Date                                ...                      \n",
              "2020-11-02  394.000000  406.980011  ...  400.510010  29021100\n",
              "2020-11-03  409.730011  427.769989  ...  423.899994  34351700\n",
              "2020-11-04  430.619995  435.399994  ...  420.980011  32143100\n",
              "2020-11-05  428.299988  440.000000  ...  438.089996  28414500\n",
              "2020-11-06  436.100006  436.570007  ...  429.950012  21706000\n",
              "\n",
              "[5 rows x 6 columns]"
            ]
          },
          "metadata": {},
          "execution_count": 8
        }
      ]
    },
    {
      "cell_type": "code",
      "metadata": {
        "id": "AYSqKZrDckGW"
      },
      "source": [
        "n = 50 # number of periods\n",
        "df['MA_High'] = df['High'].rolling(n).mean()\n",
        "df['MA_Low'] = df['Low'].rolling(n).mean()"
      ],
      "execution_count": 9,
      "outputs": []
    },
    {
      "cell_type": "code",
      "metadata": {
        "colab": {
          "base_uri": "https://localhost:8080/",
          "height": 696
        },
        "id": "x3066AtBcryW",
        "outputId": "dc64bb76-34f0-44c4-8695-0803e5385273"
      },
      "source": [
        "\n",
        "df.tail(20)"
      ],
      "execution_count": 10,
      "outputs": [
        {
          "output_type": "execute_result",
          "data": {
            "text/html": [
              "<div>\n",
              "<style scoped>\n",
              "    .dataframe tbody tr th:only-of-type {\n",
              "        vertical-align: middle;\n",
              "    }\n",
              "\n",
              "    .dataframe tbody tr th {\n",
              "        vertical-align: top;\n",
              "    }\n",
              "\n",
              "    .dataframe thead th {\n",
              "        text-align: right;\n",
              "    }\n",
              "</style>\n",
              "<table border=\"1\" class=\"dataframe\">\n",
              "  <thead>\n",
              "    <tr style=\"text-align: right;\">\n",
              "      <th></th>\n",
              "      <th>Open</th>\n",
              "      <th>High</th>\n",
              "      <th>Low</th>\n",
              "      <th>Close</th>\n",
              "      <th>Adj Close</th>\n",
              "      <th>Volume</th>\n",
              "      <th>MA_High</th>\n",
              "      <th>MA_Low</th>\n",
              "    </tr>\n",
              "    <tr>\n",
              "      <th>Date</th>\n",
              "      <th></th>\n",
              "      <th></th>\n",
              "      <th></th>\n",
              "      <th></th>\n",
              "      <th></th>\n",
              "      <th></th>\n",
              "      <th></th>\n",
              "      <th></th>\n",
              "    </tr>\n",
              "  </thead>\n",
              "  <tbody>\n",
              "    <tr>\n",
              "      <th>2021-10-04</th>\n",
              "      <td>796.500000</td>\n",
              "      <td>806.969971</td>\n",
              "      <td>776.119995</td>\n",
              "      <td>781.530029</td>\n",
              "      <td>781.530029</td>\n",
              "      <td>30483300</td>\n",
              "      <td>733.432201</td>\n",
              "      <td>713.420002</td>\n",
              "    </tr>\n",
              "    <tr>\n",
              "      <th>2021-10-05</th>\n",
              "      <td>784.799988</td>\n",
              "      <td>797.309998</td>\n",
              "      <td>774.200012</td>\n",
              "      <td>780.590027</td>\n",
              "      <td>780.590027</td>\n",
              "      <td>18432600</td>\n",
              "      <td>736.014401</td>\n",
              "      <td>715.961803</td>\n",
              "    </tr>\n",
              "    <tr>\n",
              "      <th>2021-10-06</th>\n",
              "      <td>776.200012</td>\n",
              "      <td>786.659973</td>\n",
              "      <td>773.219971</td>\n",
              "      <td>782.750000</td>\n",
              "      <td>782.750000</td>\n",
              "      <td>14632800</td>\n",
              "      <td>738.417600</td>\n",
              "      <td>718.881403</td>\n",
              "    </tr>\n",
              "    <tr>\n",
              "      <th>2021-10-07</th>\n",
              "      <td>785.460022</td>\n",
              "      <td>805.000000</td>\n",
              "      <td>783.380005</td>\n",
              "      <td>793.609985</td>\n",
              "      <td>793.609985</td>\n",
              "      <td>19195800</td>\n",
              "      <td>741.418201</td>\n",
              "      <td>721.761002</td>\n",
              "    </tr>\n",
              "    <tr>\n",
              "      <th>2021-10-08</th>\n",
              "      <td>796.210022</td>\n",
              "      <td>796.380005</td>\n",
              "      <td>780.909973</td>\n",
              "      <td>785.489990</td>\n",
              "      <td>785.489990</td>\n",
              "      <td>16711100</td>\n",
              "      <td>743.672001</td>\n",
              "      <td>724.403202</td>\n",
              "    </tr>\n",
              "    <tr>\n",
              "      <th>2021-10-11</th>\n",
              "      <td>787.650024</td>\n",
              "      <td>801.239990</td>\n",
              "      <td>785.500000</td>\n",
              "      <td>791.940002</td>\n",
              "      <td>791.940002</td>\n",
              "      <td>14200300</td>\n",
              "      <td>745.746200</td>\n",
              "      <td>726.733202</td>\n",
              "    </tr>\n",
              "    <tr>\n",
              "      <th>2021-10-12</th>\n",
              "      <td>800.929993</td>\n",
              "      <td>812.320007</td>\n",
              "      <td>796.570007</td>\n",
              "      <td>805.719971</td>\n",
              "      <td>805.719971</td>\n",
              "      <td>22020000</td>\n",
              "      <td>747.453800</td>\n",
              "      <td>728.696602</td>\n",
              "    </tr>\n",
              "    <tr>\n",
              "      <th>2021-10-13</th>\n",
              "      <td>810.469971</td>\n",
              "      <td>815.409973</td>\n",
              "      <td>805.780029</td>\n",
              "      <td>811.080017</td>\n",
              "      <td>811.080017</td>\n",
              "      <td>14120100</td>\n",
              "      <td>749.308999</td>\n",
              "      <td>730.792002</td>\n",
              "    </tr>\n",
              "    <tr>\n",
              "      <th>2021-10-14</th>\n",
              "      <td>815.489990</td>\n",
              "      <td>820.250000</td>\n",
              "      <td>813.349976</td>\n",
              "      <td>818.320007</td>\n",
              "      <td>818.320007</td>\n",
              "      <td>12247200</td>\n",
              "      <td>751.215999</td>\n",
              "      <td>732.880402</td>\n",
              "    </tr>\n",
              "    <tr>\n",
              "      <th>2021-10-15</th>\n",
              "      <td>823.739990</td>\n",
              "      <td>843.210022</td>\n",
              "      <td>822.349976</td>\n",
              "      <td>843.030029</td>\n",
              "      <td>843.030029</td>\n",
              "      <td>18818000</td>\n",
              "      <td>753.661199</td>\n",
              "      <td>735.099202</td>\n",
              "    </tr>\n",
              "    <tr>\n",
              "      <th>2021-10-18</th>\n",
              "      <td>851.789978</td>\n",
              "      <td>875.260010</td>\n",
              "      <td>851.469971</td>\n",
              "      <td>870.109985</td>\n",
              "      <td>870.109985</td>\n",
              "      <td>24207200</td>\n",
              "      <td>756.839799</td>\n",
              "      <td>738.176001</td>\n",
              "    </tr>\n",
              "    <tr>\n",
              "      <th>2021-10-19</th>\n",
              "      <td>877.530029</td>\n",
              "      <td>877.950012</td>\n",
              "      <td>862.510010</td>\n",
              "      <td>864.270020</td>\n",
              "      <td>864.270020</td>\n",
              "      <td>17381100</td>\n",
              "      <td>760.018198</td>\n",
              "      <td>741.323601</td>\n",
              "    </tr>\n",
              "    <tr>\n",
              "      <th>2021-10-20</th>\n",
              "      <td>865.349976</td>\n",
              "      <td>869.489990</td>\n",
              "      <td>857.380005</td>\n",
              "      <td>865.799988</td>\n",
              "      <td>865.799988</td>\n",
              "      <td>14032100</td>\n",
              "      <td>763.076198</td>\n",
              "      <td>744.433601</td>\n",
              "    </tr>\n",
              "    <tr>\n",
              "      <th>2021-10-21</th>\n",
              "      <td>856.000000</td>\n",
              "      <td>900.000000</td>\n",
              "      <td>855.500000</td>\n",
              "      <td>894.000000</td>\n",
              "      <td>894.000000</td>\n",
              "      <td>31481500</td>\n",
              "      <td>766.772598</td>\n",
              "      <td>747.459401</td>\n",
              "    </tr>\n",
              "    <tr>\n",
              "      <th>2021-10-22</th>\n",
              "      <td>895.500000</td>\n",
              "      <td>910.000000</td>\n",
              "      <td>890.960022</td>\n",
              "      <td>909.679993</td>\n",
              "      <td>909.679993</td>\n",
              "      <td>22880800</td>\n",
              "      <td>770.516598</td>\n",
              "      <td>751.290601</td>\n",
              "    </tr>\n",
              "    <tr>\n",
              "      <th>2021-10-25</th>\n",
              "      <td>950.530029</td>\n",
              "      <td>1045.020020</td>\n",
              "      <td>944.200012</td>\n",
              "      <td>1024.859985</td>\n",
              "      <td>1024.859985</td>\n",
              "      <td>62852100</td>\n",
              "      <td>776.818998</td>\n",
              "      <td>755.887800</td>\n",
              "    </tr>\n",
              "    <tr>\n",
              "      <th>2021-10-26</th>\n",
              "      <td>1024.689941</td>\n",
              "      <td>1094.939941</td>\n",
              "      <td>1001.440002</td>\n",
              "      <td>1018.429993</td>\n",
              "      <td>1018.429993</td>\n",
              "      <td>62415000</td>\n",
              "      <td>784.527797</td>\n",
              "      <td>762.388600</td>\n",
              "    </tr>\n",
              "    <tr>\n",
              "      <th>2021-10-27</th>\n",
              "      <td>1039.660034</td>\n",
              "      <td>1070.880005</td>\n",
              "      <td>1030.780029</td>\n",
              "      <td>1037.859985</td>\n",
              "      <td>1037.859985</td>\n",
              "      <td>38526500</td>\n",
              "      <td>792.453796</td>\n",
              "      <td>770.027400</td>\n",
              "    </tr>\n",
              "    <tr>\n",
              "      <th>2021-10-28</th>\n",
              "      <td>1068.310059</td>\n",
              "      <td>1081.000000</td>\n",
              "      <td>1054.199951</td>\n",
              "      <td>1077.040039</td>\n",
              "      <td>1077.040039</td>\n",
              "      <td>27213200</td>\n",
              "      <td>800.158396</td>\n",
              "      <td>777.724399</td>\n",
              "    </tr>\n",
              "    <tr>\n",
              "      <th>2021-10-29</th>\n",
              "      <td>1081.859985</td>\n",
              "      <td>1115.209961</td>\n",
              "      <td>1073.209961</td>\n",
              "      <td>1114.000000</td>\n",
              "      <td>1114.000000</td>\n",
              "      <td>29918400</td>\n",
              "      <td>808.731595</td>\n",
              "      <td>785.836798</td>\n",
              "    </tr>\n",
              "  </tbody>\n",
              "</table>\n",
              "</div>"
            ],
            "text/plain": [
              "                   Open         High  ...     MA_High      MA_Low\n",
              "Date                                  ...                        \n",
              "2021-10-04   796.500000   806.969971  ...  733.432201  713.420002\n",
              "2021-10-05   784.799988   797.309998  ...  736.014401  715.961803\n",
              "2021-10-06   776.200012   786.659973  ...  738.417600  718.881403\n",
              "2021-10-07   785.460022   805.000000  ...  741.418201  721.761002\n",
              "2021-10-08   796.210022   796.380005  ...  743.672001  724.403202\n",
              "2021-10-11   787.650024   801.239990  ...  745.746200  726.733202\n",
              "2021-10-12   800.929993   812.320007  ...  747.453800  728.696602\n",
              "2021-10-13   810.469971   815.409973  ...  749.308999  730.792002\n",
              "2021-10-14   815.489990   820.250000  ...  751.215999  732.880402\n",
              "2021-10-15   823.739990   843.210022  ...  753.661199  735.099202\n",
              "2021-10-18   851.789978   875.260010  ...  756.839799  738.176001\n",
              "2021-10-19   877.530029   877.950012  ...  760.018198  741.323601\n",
              "2021-10-20   865.349976   869.489990  ...  763.076198  744.433601\n",
              "2021-10-21   856.000000   900.000000  ...  766.772598  747.459401\n",
              "2021-10-22   895.500000   910.000000  ...  770.516598  751.290601\n",
              "2021-10-25   950.530029  1045.020020  ...  776.818998  755.887800\n",
              "2021-10-26  1024.689941  1094.939941  ...  784.527797  762.388600\n",
              "2021-10-27  1039.660034  1070.880005  ...  792.453796  770.027400\n",
              "2021-10-28  1068.310059  1081.000000  ...  800.158396  777.724399\n",
              "2021-10-29  1081.859985  1115.209961  ...  808.731595  785.836798\n",
              "\n",
              "[20 rows x 8 columns]"
            ]
          },
          "metadata": {},
          "execution_count": 10
        }
      ]
    },
    {
      "cell_type": "code",
      "metadata": {
        "colab": {
          "base_uri": "https://localhost:8080/",
          "height": 638
        },
        "id": "uHaw7YhLcxb3",
        "outputId": "61b7976b-d295-47ea-c718-10ec77dea03f"
      },
      "source": [
        "import matplotlib.pyplot as plt\n",
        "fig = plt.figure(figsize=(14,10))\n",
        "ax1 = plt.subplot(2, 1, 1)\n",
        "ax1.plot(df['Adj Close'])\n",
        "ax1.plot(df['MA_High'], label='Moving Average of High')\n",
        "ax1.plot(df['MA_Low'], label='Moving Average of Low')\n",
        "ax1.set_title('Stock '+ symbol +' Closing Price')\n",
        "ax1.set_ylabel('Price')\n",
        "ax1.legend(loc='best')\n",
        "\n",
        "ax2 = plt.subplot(2, 1, 2)\n",
        "ax2.plot(df['MA_High'], label='Moving Average of High')\n",
        "ax2.plot(df['MA_Low'], label='Moving Average of Low')\n",
        "ax2.grid()\n",
        "ax2.legend(loc='best')\n",
        "ax2.set_ylabel('Moving Average of High and Low')\n",
        "ax2.set_xlabel('Date')"
      ],
      "execution_count": 12,
      "outputs": [
        {
          "output_type": "execute_result",
          "data": {
            "text/plain": [
              "Text(0.5, 0, 'Date')"
            ]
          },
          "metadata": {},
          "execution_count": 12
        },
        {
          "output_type": "display_data",
          "data": {
            "image/png": "[encoded data removed]",
            "text/plain": [
              "<Figure size 1008x720 with 2 Axes>"
            ]
          },
          "metadata": {
            "needs_background": "light"
          }
        }
      ]
    }
  ]
}